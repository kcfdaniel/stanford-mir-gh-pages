{
 "cells": [
  {
   "cell_type": "markdown",
   "metadata": {},
   "source": [
    "[&larr; Back to Index](index.html)"
   ]
  },
  {
   "cell_type": "markdown",
   "metadata": {},
   "source": [
    "# Python Basics"
   ]
  },
  {
   "cell_type": "markdown",
   "metadata": {},
   "source": [
    "## Why Python?"
   ]
  },
  {
   "cell_type": "markdown",
   "metadata": {},
   "source": [
    "[Python](https://python.org) is a general-purpose programming language that is popular and easy to use. For new programmers, it is a great choice as a first programming language. In fact, more and more university CS departments are centering their introductory courses around Python.\n",
    "\n",
    "For a summary of reasons to move from Matlab to Python, please read [this post](https://stevetjoa.com/305).\n",
    "\n",
    "This page on [Udacity](https://www.udacity.com/programming-languages/python) provides some more great reasons to use Python, along with resources for getting started."
   ]
  },
  {
   "cell_type": "markdown",
   "metadata": {},
   "source": [
    "## Tutorial"
   ]
  },
  {
   "cell_type": "markdown",
   "metadata": {},
   "source": [
    "If you are new to Python, please follow [The Python Tutorial](https://docs.python.org/2/tutorial/index.html).\n",
    "\n",
    "For the purposes of this workshop, be sure you understand the following sections:\n",
    "\n",
    "- Section 3: An Informal Introduction to Python\n",
    "    - numbers: `int`, `float`\n",
    "    - strings\n",
    "    - lists\n",
    "- Section 4: More Control Flow Tools\n",
    "    - `if` statements\n",
    "    - `for` statements\n",
    "    - `range`\n",
    "    - functions\n",
    "- Section 5: Data Structures\n",
    "    - list comprehensions\n",
    "    - tuples\n",
    "    - dictionaries\n",
    "    - looping techniques\n",
    "\n",
    "While the other sections are useful, you can learn them along the way."
   ]
  },
  {
   "cell_type": "markdown",
   "metadata": {},
   "source": [
    "## Package Installation"
   ]
  },
  {
   "cell_type": "markdown",
   "metadata": {},
   "source": [
    "To follow the material on this site, you will need to install additional Python packages.\n",
    "\n",
    "Follow the instructions on the [GitHub repository `README`](https://github.com/stevetjoa/stanford-mir#how-to-use-this-repo).\n",
    "\n",
    "1.  If you’re totally new, the simplest solution is to download and install [Anaconda for Python 2 (2.7)](https://www.continuum.io/downloads), not Python 3. \n",
    "    \n",
    "2.  Install [librosa](https://librosa.github.io/librosa/install.html) and [ffmpeg](https://librosa.github.io/librosa/install.html#ffmpeg)."
   ]
  },
  {
   "cell_type": "markdown",
   "metadata": {},
   "source": [
    "You will also probably want to [install pip](https://pip.pypa.io/en/stable/installing/). pip is the recommended tool for installing most other Python packages."
   ]
  },
  {
   "cell_type": "markdown",
   "metadata": {},
   "source": [
    "## More Learning Resources"
   ]
  },
  {
   "cell_type": "markdown",
   "metadata": {},
   "source": [
    "-   [The Hitchhiker's Guide to Python](http://docs.python-guide.org/en/latest/)\n",
    "-   [SciPy Lecture Notes](http://www.scipy-lectures.org/)\n",
    "-   [Codecademy](http://www.codecademy.com/en/tracks/python)\n",
    "-   [learnpython.org](http://www.learnpython.org/)"
   ]
  },
  {
   "cell_type": "markdown",
   "metadata": {},
   "source": [
    "[&larr; Back to Index](index.html)"
   ]
  }
 ],
 "metadata": {
  "kernelspec": {
   "display_name": "Python 2",
   "language": "python",
   "name": "python2"
  },
  "language_info": {
   "codemirror_mode": {
    "name": "ipython",
    "version": 2
   },
   "file_extension": ".py",
   "mimetype": "text/x-python",
   "name": "python",
   "nbconvert_exporter": "python",
   "pygments_lexer": "ipython2",
   "version": "2.7.13"
  }
 },
 "nbformat": 4,
 "nbformat_minor": 1
}
