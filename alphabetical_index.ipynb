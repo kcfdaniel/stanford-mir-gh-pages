{
 "cells": [
  {
   "cell_type": "markdown",
   "metadata": {},
   "source": [
    "[&larr; Back to Index](index.html)"
   ]
  },
  {
   "cell_type": "markdown",
   "metadata": {},
   "source": [
    "# Alphabetical Index of Terms"
   ]
  },
  {
   "cell_type": "markdown",
   "metadata": {},
   "source": [
    "|Term|musicinformationretrieval.com|Wikipedia|librosa|FMP|Related|\n",
    "|-|-|-|-|-|-|\n",
    "|Energy|[Energy and RMSE](energy.html)|[Energy (signal processing)](https://en.wikipedia.org/wiki/Energy_(signal_processing%29)| |66, 67|Root-mean-square energy|\n"
   ]
  },
  {
   "cell_type": "markdown",
   "metadata": {},
   "source": [
    "|Term|musicinformationretrieval.com|Wikipedia|librosa|FMP|Related|\n",
    "|-|-|-|-|-|-|\n",
    "|Root-mean-square energy|[Energy and RMSE](energy.html)|[Root mean square](https://en.wikipedia.org/wiki/Root_mean_square)|[`librosa.feature.rmse`](https://librosa.github.io/librosa/generated/librosa.feature.rmse.html)| |Energy|\n",
    "|Spectrogram|[STFT and Spectrogram](stft.html)|[Spectrogram](https://en.wikipedia.org/wiki/Spectrogram)||29, 55|STFT|\n",
    "|Short-time Fourier transform|\n"
   ]
  },
  {
   "cell_type": "markdown",
   "metadata": {},
   "source": [
    "[&larr; Back to Index](index.html)"
   ]
  }
 ],
 "metadata": {
  "kernelspec": {
   "display_name": "Python 2",
   "language": "python",
   "name": "python2"
  },
  "language_info": {
   "codemirror_mode": {
    "name": "ipython",
    "version": 2
   },
   "file_extension": ".py",
   "mimetype": "text/x-python",
   "name": "python",
   "nbconvert_exporter": "python",
   "pygments_lexer": "ipython2",
   "version": "2.7.13"
  }
 },
 "nbformat": 4,
 "nbformat_minor": 2
}
