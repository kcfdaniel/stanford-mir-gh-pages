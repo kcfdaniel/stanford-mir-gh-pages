{
 "metadata": {
  "name": "",
  "signature": "sha256:28793f27d0ebf2c2407b686acd72bc98485da8fd86b00986839688afb5e57c18"
 },
 "nbformat": 3,
 "nbformat_minor": 0,
 "worksheets": [
  {
   "cells": [
    {
     "cell_type": "markdown",
     "metadata": {},
     "source": [
      "Evaluation\n",
      "----------\n",
      "\n",
      "Once we have computed results using our test set which can be compared against their ground truth labels, there are a number of evaluation methods to understand how well a classifier is performing, particularly when we want to compare different classifiers."
     ]
    },
    {
     "cell_type": "markdown",
     "metadata": {},
     "source": [
      "The simplest evaluation measures to produce are the 'True Positive', 'False Positive' and 'False Negative' counts."
     ]
    },
    {
     "cell_type": "code",
     "collapsed": false,
     "input": [
      "import numpy as np\n",
      "\n",
      "positive_label = 1 # The label that we call correct.\n",
      "\n",
      "# An example set of labels for our ground truth\n",
      "gt_labels    = np.array([1,1,1,1,1,1,1,1,1,1,2,2,2,2,2,2,2,2,2,2])\n",
      "\n",
      "# Some example output from a classifier (i.e. model), with classification errors.\n",
      "model_output = np.array([1,1,2,2,2,1,1,1,2,1,2,2,2,2,2,2,1,2,1,2])"
     ],
     "language": "python",
     "metadata": {},
     "outputs": [],
     "prompt_number": 41
    },
    {
     "cell_type": "markdown",
     "metadata": {},
     "source": [
      "With the true and false positive counts we can compute 'Precision', 'Recall' and 'F-Measure'. \n",
      "Precision describes the ratio of correctly classified files against all which were classified as positive. That is, precision = #TP / (#TP + #FP). Hence:"
     ]
    },
    {
     "cell_type": "code",
     "collapsed": false,
     "input": [
      "# Compute the number of true positives\n",
      "tp = sum((model_output == gt_labels) * (gt_labels == positive_label) + 0.0)\n",
      "# Determine precision by dividing the true positive count by the number of all claimed as positive.\n",
      "precision = tp / sum((model_output == positive_label) + 0.0)\n",
      "precision"
     ],
     "language": "python",
     "metadata": {},
     "outputs": [
      {
       "metadata": {},
       "output_type": "pyout",
       "prompt_number": 42,
       "text": [
        "0.75"
       ]
      }
     ],
     "prompt_number": 42
    },
    {
     "cell_type": "markdown",
     "metadata": {},
     "source": [
      "The false positive count counts the number of classifications as positive but did not match our ground truth labels."
     ]
    },
    {
     "cell_type": "code",
     "collapsed": false,
     "input": [
      "fp = sum((model_output == positive_label) * (gt_labels != positive_label) + 0.0)\n",
      "fp"
     ],
     "language": "python",
     "metadata": {},
     "outputs": [
      {
       "metadata": {},
       "output_type": "pyout",
       "prompt_number": 43,
       "text": [
        "2.0"
       ]
      }
     ],
     "prompt_number": 43
    },
    {
     "cell_type": "markdown",
     "metadata": {},
     "source": [
      "The false negative count counts the number of incorrect classifications, labelled as negative, when the ground truth label was positive."
     ]
    },
    {
     "cell_type": "code",
     "collapsed": false,
     "input": [
      "fn = sum((model_output != positive_label) * (gt_labels == positive_label) + 0.0)\n",
      "fn"
     ],
     "language": "python",
     "metadata": {},
     "outputs": [
      {
       "metadata": {},
       "output_type": "pyout",
       "prompt_number": 44,
       "text": [
        "4.0"
       ]
      }
     ],
     "prompt_number": 44
    },
    {
     "cell_type": "markdown",
     "metadata": {},
     "source": [
      "Recall describes the ratio of correctly classified files against the files which were known to be correct. Recall = # TP / (# TP + # FN)"
     ]
    },
    {
     "cell_type": "code",
     "collapsed": false,
     "input": [
      "recall = tp / (tp + fn)\n",
      "recall"
     ],
     "language": "python",
     "metadata": {},
     "outputs": [
      {
       "metadata": {},
       "output_type": "pyout",
       "prompt_number": 45,
       "text": [
        "0.59999999999999998"
       ]
      }
     ],
     "prompt_number": 45
    },
    {
     "cell_type": "markdown",
     "metadata": {},
     "source": [
      "The F-score is the harmonic mean of precision and recall, combining both measures:"
     ]
    },
    {
     "cell_type": "code",
     "collapsed": false,
     "input": [
      "f_score = 2 * precision * recall / (precision + recall)\n",
      "f_score"
     ],
     "language": "python",
     "metadata": {},
     "outputs": [
      {
       "metadata": {},
       "output_type": "pyout",
       "prompt_number": 46,
       "text": [
        "0.66666666666666652"
       ]
      }
     ],
     "prompt_number": 46
    },
    {
     "cell_type": "markdown",
     "metadata": {},
     "source": [
      "Alternatively, often we want to understand the performance of a single classifier over a range of different threshold parameter settings. A \"Receiver Operating Characteristics\" (ROC) curve plots true positive rate vs. false positive rate for different parameter settings. This depicts the relative trade-offs between true positive (benefits) and false positive (costs) for each parameter value.\n",
      "\n",
      "Plotting this curve is made easy with scikit.learn's [ROC](http://scikit-learn.org/stable/modules/model_evaluation.html#receiver-operating-characteristic-roc) functions. It is however, restricted to binary classifications (i.e. snare vs. non-snare)."
     ]
    },
    {
     "cell_type": "code",
     "collapsed": false,
     "input": [
      "import numpy as np\n",
      "from sklearn.metrics import roc_curve\n",
      "roc_curve?"
     ],
     "language": "python",
     "metadata": {},
     "outputs": [],
     "prompt_number": 48
    },
    {
     "cell_type": "code",
     "collapsed": false,
     "input": [
      "# We can use roc_curve to produce the false and true positive rates for each example, given the labels and normalised scores. \n",
      "# The scores represent the classifier's confidence of each classification.\n",
      "# Since our classifications do not issue a confidence measure, we make them binary.\n",
      "scores = (model_output == gt_labels) + 0.0\n",
      "print scores\n",
      "\n",
      "# We indicate to roc_curve that the value 1 in gt_labels is our positive snare label.\n",
      "fpr, tpr, thresholds = roc_curve(gt_labels, scores, pos_label=positive_label)\n",
      "print fpr\n",
      "print tpr\n",
      "print thresholds"
     ],
     "language": "python",
     "metadata": {},
     "outputs": [
      {
       "output_type": "stream",
       "stream": "stdout",
       "text": [
        "[ 1.  1.  0.  0.  0.  1.  1.  1.  0.  1.  1.  1.  1.  1.  1.  1.  0.  1.\n",
        "  0.  1.]\n",
        "[ 0.   0.8  1. ]\n",
        "[ 0.   0.6  1. ]\n",
        "[ 2.  1.  0.]\n"
       ]
      }
     ],
     "prompt_number": 56
    },
    {
     "cell_type": "markdown",
     "metadata": {},
     "source": [
      "The roc_auc_score function computes the area under the receiver operating characteristic (ROC) curve, which is also denoted by the acronyms AUC or AUROC. This summarises the behaviour of the system to one number."
     ]
    },
    {
     "cell_type": "code",
     "collapsed": false,
     "input": [
      "import numpy as np\n",
      "from sklearn.metrics import roc_auc_score, auc\n",
      "\n",
      "y_true = np.array([0, 0, 1, 1])\n",
      "y_scores = np.array([0.1, 0.4, 0.35, 0.8])\n",
      "roc_auc = roc_auc_score(y_true, y_scores)\n",
      "roc_auc"
     ],
     "language": "python",
     "metadata": {},
     "outputs": [
      {
       "metadata": {},
       "output_type": "pyout",
       "prompt_number": 61,
       "text": [
        "0.75"
       ]
      }
     ],
     "prompt_number": 61
    },
    {
     "cell_type": "code",
     "collapsed": false,
     "input": [
      "binary_labels = (gt_labels == positive_label) + 0\n",
      "print binary_labels\n",
      "roc_auc = roc_auc_score(binary_labels, scores)\n",
      "\n",
      "roc_auc"
     ],
     "language": "python",
     "metadata": {},
     "outputs": [
      {
       "output_type": "stream",
       "stream": "stdout",
       "text": [
        "[1 1 1 1 1 1 1 1 1 1 0 0 0 0 0 0 0 0 0 0]\n"
       ]
      },
      {
       "metadata": {},
       "output_type": "pyout",
       "prompt_number": 66,
       "text": [
        "0.39999999999999997"
       ]
      }
     ],
     "prompt_number": 66
    },
    {
     "cell_type": "code",
     "collapsed": false,
     "input": [
      "# Alternatively the area under curve can be computed directly from the positive rates.\n",
      "roc_auc = auc(fpr, tpr)\n",
      "roc_auc"
     ],
     "language": "python",
     "metadata": {},
     "outputs": [
      {
       "metadata": {},
       "output_type": "pyout",
       "prompt_number": 59,
       "text": [
        "0.39999999999999997"
       ]
      }
     ],
     "prompt_number": 59
    },
    {
     "cell_type": "markdown",
     "metadata": {},
     "source": [
      "We can then plot an ROC curve with matplotlib"
     ]
    },
    {
     "cell_type": "code",
     "collapsed": false,
     "input": [
      "from matplotlib.pyplot import *\n",
      "\n",
      "clf()\n",
      "plot(fpr, tpr, '-x', label='ROC curve (area = %0.2f)' % roc_auc)\n",
      "# Plot the line of no discrimination\n",
      "plot([0, 1], [0, 1], 'k--')\n",
      "xlim([0.0, 1.0])\n",
      "ylim([0.0, 1.0])\n",
      "xlabel('False Positive Rate')\n",
      "ylabel('True Positive Rate')\n",
      "title('Receiver Operating Characteristic')\n",
      "legend(loc=\"lower right\")\n",
      "show()"
     ],
     "language": "python",
     "metadata": {},
     "outputs": [
      {
       "metadata": {},
       "output_type": "display_data",
       "png": "[encoded data removed]",
       "text": [
        "<matplotlib.figure.Figure at 0x3931b90>"
       ]
      }
     ],
     "prompt_number": 9
    },
    {
     "cell_type": "code",
     "collapsed": false,
     "input": [],
     "language": "python",
     "metadata": {},
     "outputs": []
    }
   ],
   "metadata": {}
  }
 ]
}