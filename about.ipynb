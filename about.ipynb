{
 "cells": [
  {
   "cell_type": "markdown",
   "metadata": {},
   "source": [
    "[&larr; Back to Index](index.html)"
   ]
  },
  {
   "cell_type": "markdown",
   "metadata": {},
   "source": [
    "# About This Site"
   ]
  },
  {
   "cell_type": "markdown",
   "metadata": {},
   "source": [
    "**musicinformationretrieval.com** is a collection of instructional materials for music information retrieval (MIR). These materials contain a mix of casual conversation, technical discussion, and Python code. \n",
    "\n",
    "These pages, including the one you're reading, are authored using [Jupyter notebooks](http://jupyter.org/). They are statically hosted using [GitHub Pages](https://pages.github.com/). The GitHub repository is found here: [stevetjoa/stanford-mir](https://github.com/stevetjoa/stanford-mir).\n",
    "\n",
    "This material is used during the annual Summer Workshop on Music Information Retrieval at CCRMA, Stanford University. [Click here for workshop description and registration](https://ccrma.stanford.edu/workshops/music-information-retrieval-2017).\n",
    "\n",
    "This site is maintained by [Steve Tjoa](https://stevetjoa.com). For questions, please email [steve@stevetjoa.com](mailto:steve@stevetjoa.com). Do you have any feedback? Did you find errors or typos? Are you a teacher or researcher and would like to collaborate? Please let me know."
   ]
  },
  {
   "cell_type": "markdown",
   "metadata": {},
   "source": [
    "## People who use this site"
   ]
  },
  {
   "cell_type": "markdown",
   "metadata": {},
   "source": [
    "- International Audio Laboratories Erlangen, [Meinard Müller](https://www.audiolabs-erlangen.de/fau/professor/mueller) (author, [Fundamentals of Music Processing](http://www.music-processing.de), Springer, 2015)\n",
    "- San Jose State University, CS185C - Topics on Music Information Retrieval, Vidya Rangasayee\n",
    "- Stanford University, [Music 364: Data-Driven Research in Music Cognition](https://ccrma.stanford.edu/courses/364/), [Blair Kaneshiro](https://ccrma.stanford.edu/~blairbo/)\n",
    "- MIT, [21M.359: Fundamentals of Music Processing](http://musictech.mit.edu/fmp), [Eran Egozy](http://mta.mit.edu/person/eran-egozy)\n",
    "- Harvard University, Freshman Seminar 24e: The Physics and Applied Physics Freshman Research Laboratory\n",
    "- Haverford College"
   ]
  },
  {
   "cell_type": "markdown",
   "metadata": {},
   "source": [
    "## About *Fundamentals of Music Processing*"
   ]
  },
  {
   "cell_type": "markdown",
   "metadata": {},
   "source": [
    "<img src=\"https://images-na.ssl-images-amazon.com/images/I/51q5YtafVsL.jpg\">"
   ]
  },
  {
   "cell_type": "markdown",
   "metadata": {
    "collapsed": true
   },
   "source": [
    "The book [*Fundamentals of Music Processing*](https://www.audiolabs-erlangen.de/fau/professor/mueller/bookFMP) (FMP)  is a textbook by [Meinard Müller](https://www.audiolabs-erlangen.de/fau/professor/mueller), a well-known and prolific researcher in MIR, and published by Springer in 2015.\n",
    "\n",
    "For many years, the field of music information retrieval has suffered from a lack of consolidated texts which unify its many disparate topics. Until now, students and researchers have had to learn about MIR mostly by reading the original research papers -- a daunting task. FMP is perhaps the best attempt to address this issue. It is a self-contained textbook which covers many MIR tasks such as feature extraction, audio-to-score alignment, musical form and structure, chord recognition, beat tracking, fingerprinting, and source separation.\n",
    "\n",
    "We integrated content from FMP into musicinformationretrieval.com in 2016."
   ]
  },
  {
   "cell_type": "markdown",
   "metadata": {},
   "source": [
    "### Contributors to this GitHub repo"
   ]
  },
  {
   "cell_type": "markdown",
   "metadata": {},
   "source": [
    "- Leigh Smith\n",
    "- Owen Campbell\n",
    "- Mark Goldstein\n",
    "- Sudara"
   ]
  },
  {
   "cell_type": "markdown",
   "metadata": {},
   "source": [
    "## About the CCRMA Workshop on Music Information Retrieval"
   ]
  },
  {
   "cell_type": "markdown",
   "metadata": {},
   "source": [
    "*\"You guys put together a really fantastic workshop.\"*\n",
    "\n",
    "*\"I really enjoyed the workshop. It was very well executed and exceeded my expectations in the scope of material covered.\"*\n",
    "\n",
    "*\"Well planned and thoughtful.\"*\n",
    "\n",
    "*\"My own participation in this course started me down a path that I couldn't have foreseen and landed me several music tech jobs with startups and now an established company. Highly recommend this workshop!\"*\n",
    "\n",
    "*\"It was a fun week. I learned a lot, and met some very cool people. That week helped shape where I am now in a couple of ways.\"*\n",
    "\n",
    "*\"I'd take this course again, if my schedule permits. It's a very cool introduction to Information Retrieval and Machine Learning through Music, for sure. Definitely recommended!\"*\n",
    "\n",
    "*\"This was a great introduction to the field of MIR which I am now applying to human studies of the cognitive neuroscience of music.\"*\n",
    "\n",
    "*\"This is a fantastic workshop. I'd also love to take it again when I find the time.\"*"
   ]
  },
  {
   "cell_type": "markdown",
   "metadata": {},
   "source": [
    "The MIR workshop teaches the underlying ideas, approaches, technologies, and practical design of intelligent audio systems using MIR algorithms. It lasts five full days, Monday through Friday. It was founded by [Jay LeBoeuf](https://www.linkedin.com/in/jayleboeuf) (Real Industry, CCRMA consulting professor) in 2008.\n",
    "\n",
    "The workshop is intended for students, researchers, and industry audio engineers who are unfamiliar with the field of music information retrieval (MIR). We demonstrate the technologies enabled by signal processing and machine learning. Lectures cover topics such as low-level feature extraction, higher-level features such as chord estimations, audio similarity clustering, search and retrieval, music synchronization, signal decomposition, rhythm and tempo, and design and evaluation of classification systems. Our goal is to make these interdisciplinary technologies and complex algorithms approachable.\n",
    "\n",
    "Knowledge of basic digital audio principles is recommended.  Experience with a scripting language such as Python or Matlab is desired. Students are encouraged to bring their own audio source material for course labs and demonstrations.\n",
    "\n",
    "The workshop consists of half-day lectures, half-day supervised lab sessions, demonstrations, and discussions. Labs allow students to design basic \"intelligent audio systems\" leveraging existing MIR toolboxes, programming environments, and applications. Labs include creation and evaluation of basic instrument recognition, transcription, and real-time audio analysis systems."
   ]
  },
  {
   "cell_type": "markdown",
   "metadata": {},
   "source": [
    "### Instructors"
   ]
  },
  {
   "cell_type": "markdown",
   "metadata": {},
   "source": [
    "Links redirect to that year's wiki page."
   ]
  },
  {
   "cell_type": "markdown",
   "metadata": {},
   "source": [
    "- [2008](https://ccrma.stanford.edu/wiki/MIR_workshop_2008): Jay LeBoeuf\n",
    "- [2009](https://ccrma.stanford.edu/wiki/MIR_workshop_2009): Jay LeBoeuf, Kyogu Lee\n",
    "- [2010](https://ccrma.stanford.edu/wiki/MIR_workshop_2010): Jay LeBoeuf, Rebecca Fiebrink\n",
    "- [2011](https://ccrma.stanford.edu/wiki/MIR_workshop_2011): Jay LeBoeuf, Stephen Pope, Leigh Smith, Steve Tjoa\n",
    "- [2012](https://ccrma.stanford.edu/wiki/MIR_workshop_2012): Jay LeBoeuf, Leigh Smith, Steve Tjoa\n",
    "- [2013](https://ccrma.stanford.edu/wiki/MIR_workshop_2013): Jay LeBoeuf, Leigh Smith, Steve Tjoa\n",
    "- [2014](https://ccrma.stanford.edu/wiki/MIR_workshop_2014): Jay LeBoeuf, Leigh Smith, Steve Tjoa\n",
    "- 2015: Jay LeBoeuf, Leigh Smith, Steve Tjoa\n",
    "- [2016](https://docs.google.com/document/d/1YpuvCxKHUsqbbqEA_0XB_5-jH3e47v0azO1sn_iVV1k/edit?usp=sharing): Steve Tjoa, Jeff Scott\n",
    "- 2017: Steve Tjoa, Jeff Scott (Sold out. Sorry.)"
   ]
  },
  {
   "cell_type": "markdown",
   "metadata": {},
   "source": [
    "### Guest Lecturers"
   ]
  },
  {
   "cell_type": "markdown",
   "metadata": {},
   "source": [
    "- 2011: Rebecca Fiebrink, Doug Eck, George Tzanetakis\n",
    "- 2012: Oscar Celma, Michael Mandel\n",
    "- 2013: Ching-Wei Chen, Nick Bryan, Gautham Mysore\n",
    "- 2014: Stephen Pope, Andreas Ehmann\n",
    "- 2015: Zafar Rafii, Constantinos Dimitriou, Jeff Scott, Aneesh Kartakavi\n",
    "- 2016: Doug Eck, Blair Kaneshiro\n",
    "- 2017: Jonathan Bailey, Stephen Pope"
   ]
  },
  {
   "cell_type": "markdown",
   "metadata": {},
   "source": [
    "### Alumni"
   ]
  },
  {
   "cell_type": "markdown",
   "metadata": {},
   "source": [
    "- 2008:\n",
    "- 2009 [[full list](https://ccrma.stanford.edu/wiki/MIR_workshop_2009/Participants)]: Luke Dahl, Mike Gao, Craig Hanson, Jorge Herrera, Denis Lebel, Sang Won Lee, Gautham Mysore, Jeremy Sawruk, Hwan Shim, Diana Siwiak, Steve Tjoa, Elie Noune, James Hughes, Stefan Tomic, Lisa Lim, Fred Barrett\n",
    "- 2010:\n",
    "- 2011: Chris Colatos, Jeff Albert, Kamlesh Lakshminarayanan, Sean Zhang, Eli Stine, David Bird, Gina Collecchia, Dekun Zou, Bill Paseman, John Amuedo\n",
    "- 2012:\n",
    "- 2013: Freddie Sanchez, Linda Barnett, Xuchen Yang, Vivek Kumar, Felipe Loáiciga Espeleta, Haoqing (Panda) Geng\n",
    "- 2014: Krishna Kumar, Owen Campbell, Dan Cartoon, Rob Miller, Davide Fossati, Biagio Gallo, Joel Hunt, Shinobu Yamada, Fredom Luo, Sejin Oh, Phaedon Sinis, Xinyuan Lai, Greg Mertz, Matt Mitchell\n",
    "- 2015: Eric Raymond, Stelios Andrew Stavroulakis, Richard Mendelsohn, Naithan Bosse, Alessio Bazzica, Karthik Yadati, Martha Larson, Stephen Hartzog, Philip Lee, Jaeyoung Choi, Matthew Gallagher, Yule Wu, Mark Renker, Rohit Ainapure, Eric Tarr, Allen Wu, Aaron Hipple\n",
    "- 2016: Arjun Kaul, Aditya Joglekar, Jennifer Smith, Trevor Welch, Ruoxi Zhang, Patricia Robinson, Xingxing Yang, David Heid, Gabriel Lamorie, Kaustuv Kanti Ganguli, Zhengyang Ma, Bernard Wang, Thomas Matthias, Alex Kintzer, Yutong Chen\n",
    "- 2017: Jace Mogill,\n",
    "Saarish Kareer,\n",
    "Adi Etsion,\n",
    "Jiawen Huang,\n",
    "John Neuharth,\n",
    "Jung Choi,\n",
    "Thomas D. Semah,\n",
    "David Wickland,\n",
    "Arvind Ramanathan,\n",
    "Steve Philbert,\n",
    "Peizhe Gao,\n",
    "Kimberly Kawczinski,\n",
    "Samuel Lowe,\n",
    "Eric Pérez Segura,\n",
    "Jennifer Smith,\n",
    "Evan Azevedo,\n",
    "Mark Goldstein,\n",
    "Robert Farrimond,\n",
    "Wayne Chen,\n",
    "Miguel Saldana,\n",
    "Shakib Ghassemieh,\n",
    "Cixian Lu,\n",
    "Kunwoo Kim,\n",
    "Han Han,\n",
    "Oscar Dub\n"
   ]
  },
  {
   "cell_type": "markdown",
   "metadata": {},
   "source": [
    "[&larr; Back to Index](index.html)"
   ]
  }
 ],
 "metadata": {
  "kernelspec": {
   "display_name": "Python 2",
   "language": "python",
   "name": "python2"
  },
  "language_info": {
   "codemirror_mode": {
    "name": "ipython",
    "version": 2
   },
   "file_extension": ".py",
   "mimetype": "text/x-python",
   "name": "python",
   "nbconvert_exporter": "python",
   "pygments_lexer": "ipython2",
   "version": "2.7.13"
  }
 },
 "nbformat": 4,
 "nbformat_minor": 1
}
